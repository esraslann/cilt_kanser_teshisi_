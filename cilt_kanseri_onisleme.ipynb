{
 "cells": [
  {
   "cell_type": "code",
   "id": "initial_id",
   "metadata": {
    "collapsed": true,
    "ExecuteTime": {
     "end_time": "2024-12-04T13:00:08.699048Z",
     "start_time": "2024-12-04T13:00:00.469530Z"
    }
   },
   "source": [
    "# Kütüphaneleri import etme\n",
    "import pandas as pd\n",
    "import numpy as np\n",
    "from tensorflow.keras.preprocessing.image import ImageDataGenerator\n",
    "import os\n",
    "from sklearn.model_selection import train_test_split\n",
    "import shutil"
   ],
   "outputs": [],
   "execution_count": 1
  },
  {
   "metadata": {
    "ExecuteTime": {
     "end_time": "2024-12-04T13:00:08.720251Z",
     "start_time": "2024-12-04T13:00:08.703552Z"
    }
   },
   "cell_type": "code",
   "source": [
    "data_dir = 'C:/Users/esraa/Desktop/ham10000'\n",
    "# Change the current working directory\n",
    "os.chdir(data_dir)\n",
    "\n",
    "# Görüntüler için yeni bir klasör oluşturma\n",
    "base_dir = data_dir+'/base_dir'\n",
    "os.mkdir(base_dir)\n",
    "\n",
    "# Eğitim dosyası klasörü oluşturma\n",
    "train_dir = os.path.join(base_dir, 'train_dir')\n",
    "os.mkdir(train_dir)\n",
    "\n",
    "# Doğrulama dosyası klasörü oluşturma\n",
    "val_dir = os.path.join(base_dir, 'val_dir')\n",
    "os.mkdir(val_dir)\n"
   ],
   "id": "50528b6738f840d7",
   "outputs": [],
   "execution_count": 2
  },
  {
   "metadata": {
    "ExecuteTime": {
     "end_time": "2024-12-04T13:00:08.739002Z",
     "start_time": "2024-12-04T13:00:08.720251Z"
    }
   },
   "cell_type": "code",
   "source": [
    "# Eğitim ve doğrulama sınıfları için yeni klasörler oluşturma\n",
    "class_labels = ['akiec', 'bcc', 'bkl', 'df', 'mel','nv', 'vasc']\n",
    "for folder_names in [train_dir, val_dir]:\n",
    "   for name in class_labels:\n",
    "      os.mkdir(os.path.join(folder_names, name))"
   ],
   "id": "4905c0d6ee87bd82",
   "outputs": [],
   "execution_count": 3
  },
  {
   "metadata": {
    "ExecuteTime": {
     "end_time": "2024-12-04T13:00:08.854732Z",
     "start_time": "2024-12-04T13:00:08.751011Z"
    }
   },
   "cell_type": "code",
   "source": [
    "# metadata 'yı okuma\n",
    "df = pd.read_csv('HAM10000_metadata.csv')\n",
    "\n",
    "# # Veri setindeki bazı bilgileri görüntüleme\n",
    "df.head()"
   ],
   "id": "2f492b1359e6576a",
   "outputs": [
    {
     "data": {
      "text/plain": [
       "     lesion_id      image_id   dx dx_type   age   sex localization\n",
       "0  HAM_0000118  ISIC_0027419  bkl   histo  80.0  male        scalp\n",
       "1  HAM_0000118  ISIC_0025030  bkl   histo  80.0  male        scalp\n",
       "2  HAM_0002730  ISIC_0026769  bkl   histo  80.0  male        scalp\n",
       "3  HAM_0002730  ISIC_0025661  bkl   histo  80.0  male        scalp\n",
       "4  HAM_0001466  ISIC_0031633  bkl   histo  75.0  male          ear"
      ],
      "text/html": [
       "<div>\n",
       "<style scoped>\n",
       "    .dataframe tbody tr th:only-of-type {\n",
       "        vertical-align: middle;\n",
       "    }\n",
       "\n",
       "    .dataframe tbody tr th {\n",
       "        vertical-align: top;\n",
       "    }\n",
       "\n",
       "    .dataframe thead th {\n",
       "        text-align: right;\n",
       "    }\n",
       "</style>\n",
       "<table border=\"1\" class=\"dataframe\">\n",
       "  <thead>\n",
       "    <tr style=\"text-align: right;\">\n",
       "      <th></th>\n",
       "      <th>lesion_id</th>\n",
       "      <th>image_id</th>\n",
       "      <th>dx</th>\n",
       "      <th>dx_type</th>\n",
       "      <th>age</th>\n",
       "      <th>sex</th>\n",
       "      <th>localization</th>\n",
       "    </tr>\n",
       "  </thead>\n",
       "  <tbody>\n",
       "    <tr>\n",
       "      <th>0</th>\n",
       "      <td>HAM_0000118</td>\n",
       "      <td>ISIC_0027419</td>\n",
       "      <td>bkl</td>\n",
       "      <td>histo</td>\n",
       "      <td>80.0</td>\n",
       "      <td>male</td>\n",
       "      <td>scalp</td>\n",
       "    </tr>\n",
       "    <tr>\n",
       "      <th>1</th>\n",
       "      <td>HAM_0000118</td>\n",
       "      <td>ISIC_0025030</td>\n",
       "      <td>bkl</td>\n",
       "      <td>histo</td>\n",
       "      <td>80.0</td>\n",
       "      <td>male</td>\n",
       "      <td>scalp</td>\n",
       "    </tr>\n",
       "    <tr>\n",
       "      <th>2</th>\n",
       "      <td>HAM_0002730</td>\n",
       "      <td>ISIC_0026769</td>\n",
       "      <td>bkl</td>\n",
       "      <td>histo</td>\n",
       "      <td>80.0</td>\n",
       "      <td>male</td>\n",
       "      <td>scalp</td>\n",
       "    </tr>\n",
       "    <tr>\n",
       "      <th>3</th>\n",
       "      <td>HAM_0002730</td>\n",
       "      <td>ISIC_0025661</td>\n",
       "      <td>bkl</td>\n",
       "      <td>histo</td>\n",
       "      <td>80.0</td>\n",
       "      <td>male</td>\n",
       "      <td>scalp</td>\n",
       "    </tr>\n",
       "    <tr>\n",
       "      <th>4</th>\n",
       "      <td>HAM_0001466</td>\n",
       "      <td>ISIC_0031633</td>\n",
       "      <td>bkl</td>\n",
       "      <td>histo</td>\n",
       "      <td>75.0</td>\n",
       "      <td>male</td>\n",
       "      <td>ear</td>\n",
       "    </tr>\n",
       "  </tbody>\n",
       "</table>\n",
       "</div>"
      ]
     },
     "execution_count": 4,
     "metadata": {},
     "output_type": "execute_result"
    }
   ],
   "execution_count": 4
  },
  {
   "metadata": {
    "ExecuteTime": {
     "end_time": "2024-12-04T13:00:09.062563Z",
     "start_time": "2024-12-04T13:00:09.055375Z"
    }
   },
   "cell_type": "code",
   "source": [
    "# Etiket kolonunu y olarak alma\n",
    "y = df['dx']"
   ],
   "id": "749e015693bebed8",
   "outputs": [],
   "execution_count": 5
  },
  {
   "metadata": {
    "ExecuteTime": {
     "end_time": "2024-12-04T13:00:09.120202Z",
     "start_time": "2024-12-04T13:00:09.097970Z"
    }
   },
   "cell_type": "code",
   "source": [
    "# metadata 'yı eğitim ve doğrulama kümelerine ayırma\n",
    "df_train, df_val = train_test_split(df,\n",
    "                                    test_size=0.1,\n",
    "                                    random_state=101,\n",
    "                                    stratify=y)"
   ],
   "id": "9b3c1f4d914f8a88",
   "outputs": [],
   "execution_count": 6
  },
  {
   "metadata": {
    "ExecuteTime": {
     "end_time": "2024-12-04T13:00:09.189858Z",
     "start_time": "2024-12-04T13:00:09.182783Z"
    }
   },
   "cell_type": "code",
   "source": [
    "# Eğitim ve doğrulamanın şeklini yazdırma\n",
    "print(df_train.shape)\n",
    "print(df_val.shape)\n"
   ],
   "id": "7c24f9862b6a03f9",
   "outputs": [
    {
     "name": "stdout",
     "output_type": "stream",
     "text": [
      "(9013, 7)\n",
      "(1002, 7)\n"
     ]
    }
   ],
   "execution_count": 7
  },
  {
   "metadata": {
    "ExecuteTime": {
     "end_time": "2024-12-04T13:00:09.263849Z",
     "start_time": "2024-12-04T13:00:09.236614Z"
    }
   },
   "cell_type": "code",
   "source": [
    "# # Eğitim ve doğrulama kümelerindeki değerlerin sayısını bulma\n",
    "df_train['dx'].value_counts()"
   ],
   "id": "d7dc11f736cf36c6",
   "outputs": [
    {
     "data": {
      "text/plain": [
       "dx\n",
       "nv       6034\n",
       "mel      1002\n",
       "bkl       989\n",
       "bcc       463\n",
       "akiec     294\n",
       "vasc      128\n",
       "df        103\n",
       "Name: count, dtype: int64"
      ]
     },
     "execution_count": 8,
     "metadata": {},
     "output_type": "execute_result"
    }
   ],
   "execution_count": 8
  },
  {
   "metadata": {
    "ExecuteTime": {
     "end_time": "2024-12-04T13:00:09.351689Z",
     "start_time": "2024-12-04T13:00:09.342927Z"
    }
   },
   "cell_type": "code",
   "source": "df_val['dx'].value_counts()",
   "id": "aa772231e7aae3b4",
   "outputs": [
    {
     "data": {
      "text/plain": [
       "dx\n",
       "nv       671\n",
       "mel      111\n",
       "bkl      110\n",
       "bcc       51\n",
       "akiec     33\n",
       "vasc      14\n",
       "df        12\n",
       "Name: count, dtype: int64"
      ]
     },
     "execution_count": 9,
     "metadata": {},
     "output_type": "execute_result"
    }
   ],
   "execution_count": 9
  },
  {
   "metadata": {
    "ExecuteTime": {
     "end_time": "2024-12-04T13:00:09.574891Z",
     "start_time": "2024-12-04T13:00:09.566030Z"
    }
   },
   "cell_type": "code",
   "source": [
    "# Görüntüleri klasörlere transfer etme\n",
    "# Görüntü id'sini indeks olarak ayarlama\n",
    "df.set_index('image_id', inplace=True)"
   ],
   "id": "bcd4157201362f0b",
   "outputs": [],
   "execution_count": 10
  },
  {
   "metadata": {
    "ExecuteTime": {
     "end_time": "2024-12-04T13:00:09.997561Z",
     "start_time": "2024-12-04T13:00:09.691249Z"
    }
   },
   "cell_type": "code",
   "source": [
    "# Klasörlerdeki her birindeki görüntülerin listesini alma\n",
    "folder_1 = os.listdir(data_dir + '/ham10000_images_part_1')\n",
    "folder_2 = os.listdir(data_dir + '/ham10000_images_part_2')\n",
    "\n",
    "# Eğitim ve doğrulama görüntülerinin id listesini alma\n",
    "train_list = list(df_train['image_id'])\n",
    "val_list = list(df_val['image_id'])"
   ],
   "id": "d6ad178dd090e8f9",
   "outputs": [],
   "execution_count": 11
  },
  {
   "metadata": {
    "ExecuteTime": {
     "end_time": "2024-12-04T13:01:22.673916Z",
     "start_time": "2024-12-04T13:00:10.045722Z"
    }
   },
   "cell_type": "code",
   "source": [
    "# Eğitim görüntülerini transfer etme\n",
    "# Eğitim görüntülerini trasfer etme\n",
    "for image in train_list:\n",
    "\n",
    "    fname = image + '.jpg'\n",
    "    label = df.loc[image, 'dx']\n",
    "\n",
    "    # Dosyanın hangi klasörde olduğunu kontrol etme\n",
    "    if fname in folder_1:\n",
    "        src = os.path.join(data_dir, 'ham10000_images_part_1', fname)\n",
    "    elif fname in folder_2:\n",
    "\n",
    "        src = os.path.join(data_dir, 'ham10000_images_part_2', fname)\n",
    "    else:\n",
    "        continue  # Dosya bulunamazsa geç\n",
    "\n",
    "    # Hedef yolu belirleyip kopyalama\n",
    "    dst = os.path.join(train_dir, label, fname)\n",
    "    shutil.copyfile(src, dst)"
   ],
   "id": "47f953e8467dc738",
   "outputs": [],
   "execution_count": 12
  },
  {
   "metadata": {
    "ExecuteTime": {
     "end_time": "2024-12-04T13:01:30.114318Z",
     "start_time": "2024-12-04T13:01:22.742760Z"
    }
   },
   "cell_type": "code",
   "source": [
    "# Doğrulama görüntülerini transfer etme\n",
    "for image in val_list:\n",
    "    fname = image + '.jpg'\n",
    "    label = df.loc[image, 'dx']\n",
    "    # Dosyanın hangi klasörde olduğunu kontrol etme\n",
    "    if fname in folder_1:\n",
    "        src = os.path.join(data_dir, 'ham10000_images_part_1', fname)\n",
    "    elif fname in folder_2:\n",
    "        src = os.path.join(data_dir, 'ham10000_images_part_2', fname)\n",
    "    else:\n",
    "        continue  # Dosya bulunamazsa geç\n",
    "\n",
    "    # Hedef yolu belirleyip kopyalama\n",
    "    dst = os.path.join(val_dir, label, fname)\n",
    "    shutil.copyfile(src, dst)"
   ],
   "id": "344eeecf823c5964",
   "outputs": [],
   "execution_count": 13
  },
  {
   "metadata": {
    "ExecuteTime": {
     "end_time": "2024-12-04T13:01:30.434788Z",
     "start_time": "2024-12-04T13:01:30.121332Z"
    }
   },
   "cell_type": "code",
   "source": [
    "# Her klasörde kaç görüntü olduğunu kontrol etme(original/+augmented)\n",
    "for folder in [train_dir, val_dir]:\n",
    "    print(folder)\n",
    "    for name in class_labels:\n",
    "       list = os.listdir(folder+'/'+name) # dir = directory path\n",
    "       print(len(list))"
   ],
   "id": "602bc190bc75bc44",
   "outputs": [
    {
     "name": "stdout",
     "output_type": "stream",
     "text": [
      "C:/Users/esraa/Desktop/ham10000/base_dir\\train_dir\n",
      "294\n",
      "463\n",
      "989\n",
      "103\n",
      "1002\n",
      "6034\n",
      "128\n",
      "C:/Users/esraa/Desktop/ham10000/base_dir\\val_dir\n",
      "33\n",
      "51\n",
      "110\n",
      "12\n",
      "111\n",
      "671\n",
      "14\n"
     ]
    }
   ],
   "execution_count": 14
  },
  {
   "metadata": {
    "ExecuteTime": {
     "end_time": "2024-12-04T13:12:16.817034Z",
     "start_time": "2024-12-04T13:01:30.448681Z"
    }
   },
   "cell_type": "code",
   "source": [
    "# Veriyi genişletme\n",
    "# 'nv' sınıfı genişletilmeyecek\n",
    "class_list = ['mel', 'bkl', 'bcc', 'akiec', 'vasc', 'df']\n",
    "\n",
    "for item in class_list:\n",
    "    # Genişletilmiş görüntüler için geçici bir dizin oluşturma\n",
    "    aug_dir = 'aug_dir'\n",
    "    os.mkdir(aug_dir)\n",
    "    # Aynı sınıf görüntülerini base_dir'a kopyalamak için dizin oluşturma\n",
    "    img_dir = os.path.join(aug_dir,'img_dir')\n",
    "    os.mkdir(img_dir)\n",
    "\n",
    "    # Sınıf seçme\n",
    "    img_class = item\n",
    "    # Dizindeki tüm görüntüleri listeleme\n",
    "    img_list = os.listdir('base_dir/train_dir/' + img_class)\n",
    "\n",
    "    # Sınıf train_dır 'dan img_dir 'a görüntüleri kopyala\n",
    "    for fname in img_list:\n",
    "        # görüntünün kaynak yolu\n",
    "        src = os.path.join('base_dir/train_dir/' + img_class, fname)\n",
    "        # görüntünün hedef yolu\n",
    "        dst = os.path.join(img_dir, fname)\n",
    "        # kaynaktan hedefe görüntüyü kopyalama\n",
    "        shutil.copyfile(src, dst)\n",
    "\n",
    "    # Görüntülerin kendilerini değil, görüntüleri içeren dır 'ı işaret etme\n",
    "    path = aug_dir\n",
    "    save_path = 'base_dir/train_dir/' + img_class\n",
    "\n",
    "    # Görüntüleri gerçek zamanlı olarak artırma\n",
    "    datagen = ImageDataGenerator(rescale=1./255,\n",
    "                                 rotation_range=10,\n",
    "                                 width_shift_range=0.2,\n",
    "                                 height_shift_range=0.2,\n",
    "                                 zoom_range=0.2,\n",
    "                                 horizontal_flip=True,\n",
    "                                 shear_range=0.2,\n",
    "                                 channel_shift_range=10,\n",
    "                                 fill_mode='nearest')\n",
    "\n",
    "    batch_size = 128\n",
    "    aug_datagen = datagen.flow_from_directory(path,\n",
    "                                              save_to_dir=save_path,\n",
    "                                              save_format='jpg',\n",
    "                                              target_size=(224, 224),\n",
    "                                              batch_size=batch_size)\n",
    "\n",
    "    # Artırılmış görüntüleri oluşturma ve bunları eğitim klasörlerine ekleme\n",
    "    # Her sınıfta sahip olmak istenen toplam görüntü sayısı\n",
    "    num_aug_wanted = 6000\n",
    "    num_files   = len(os.listdir(img_dir))\n",
    "    num_batches = int( np.ceil((num_aug_wanted - num_files) / batch_size) )\n",
    "\n",
    "    # Generator'a çalıştırma ve yaklaşık 6000 artırılmış görüntü oluşturma\n",
    "    for i in range(0, num_batches):\n",
    "        imgs, labels = next(aug_datagen)\n",
    "\n",
    "    # Ham görüntü dosyalarıyla beraber geçici dizini silme\n",
    "    shutil.rmtree('aug_dir')\n"
   ],
   "id": "c05459d86f9758e7",
   "outputs": [
    {
     "name": "stdout",
     "output_type": "stream",
     "text": [
      "Found 1002 images belonging to 1 classes.\n",
      "Found 989 images belonging to 1 classes.\n",
      "Found 463 images belonging to 1 classes.\n",
      "Found 294 images belonging to 1 classes.\n",
      "Found 128 images belonging to 1 classes.\n",
      "Found 103 images belonging to 1 classes.\n"
     ]
    }
   ],
   "execution_count": 15
  },
  {
   "metadata": {
    "ExecuteTime": {
     "end_time": "2024-12-04T13:12:17.896814Z",
     "start_time": "2024-12-04T13:12:17.026619Z"
    }
   },
   "cell_type": "code",
   "source": [
    "# Her klasörde kaç görüntü olduğunu kontrol etme(original/+augmented)\n",
    "for folder in [train_dir, val_dir]:\n",
    "    print(folder)\n",
    "    for name in class_labels:\n",
    "       list = os.listdir(folder+'/'+name) # dir = directory path\n",
    "       print(len(list))"
   ],
   "id": "6fc846f93f73c5e4",
   "outputs": [
    {
     "name": "stdout",
     "output_type": "stream",
     "text": [
      "C:/Users/esraa/Desktop/ham10000/base_dir\\train_dir\n",
      "4704\n",
      "5556\n",
      "5934\n",
      "4944\n",
      "6012\n",
      "6034\n",
      "6016\n",
      "C:/Users/esraa/Desktop/ham10000/base_dir\\val_dir\n",
      "33\n",
      "51\n",
      "110\n",
      "12\n",
      "111\n",
      "671\n",
      "14\n"
     ]
    }
   ],
   "execution_count": 16
  }
 ],
 "metadata": {
  "kernelspec": {
   "display_name": "Python 3",
   "language": "python",
   "name": "python3"
  },
  "language_info": {
   "codemirror_mode": {
    "name": "ipython",
    "version": 2
   },
   "file_extension": ".py",
   "mimetype": "text/x-python",
   "name": "python",
   "nbconvert_exporter": "python",
   "pygments_lexer": "ipython2",
   "version": "2.7.6"
  }
 },
 "nbformat": 4,
 "nbformat_minor": 5
}
